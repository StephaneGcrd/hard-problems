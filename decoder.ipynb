{
 "cells": [
  {
   "cell_type": "code",
   "execution_count": 1,
   "id": "13513eb0",
   "metadata": {},
   "outputs": [],
   "source": [
    "import numpy as np"
   ]
  },
  {
   "cell_type": "code",
   "execution_count": 13,
   "id": "9395acd1",
   "metadata": {},
   "outputs": [],
   "source": [
    "f = open(\"inputs/test01.swe\", \"r\")"
   ]
  },
  {
   "cell_type": "code",
   "execution_count": 14,
   "id": "3c3f5a74",
   "metadata": {},
   "outputs": [],
   "source": [
    "f = f.read()"
   ]
  },
  {
   "cell_type": "code",
   "execution_count": 36,
   "id": "da645126",
   "metadata": {},
   "outputs": [
    {
     "name": "stdout",
     "output_type": "stream",
     "text": [
      "k: 4\n",
      "s: abdde\n",
      "\n",
      "strings t: \n",
      "ABD\n",
      "DDE\n",
      "AAB\n",
      "ABd\n",
      "\n",
      "Expansions: \n",
      "{'A': ['a', 'b', 'c', 'd', 'e', 'f', 'dd'], 'B': ['a', 'b', 'c', 'd', 'e', 'f', 'dd'], 'C': ['a', 'b', 'c', 'd', 'e', 'f', 'dd'], 'D': ['a', 'b', 'c', 'd', 'e', 'f', 'dd'], 'E': ['aa', 'bd', 'c', 'd', 'e']}\n"
     ]
    }
   ],
   "source": [
    "infos = f.split(\"\\n\")\n",
    "k = int(infos[0])\n",
    "s = infos[1]\n",
    "\n",
    "print(\"k: \"+ str(k))\n",
    "print(\"s: \"+ s)\n",
    "\n",
    "exp_dict = {}\n",
    "\n",
    "print(\"\\nstrings t: \")\n",
    "\n",
    "for i in range(2,2+k):\n",
    "    print(infos[i])\n",
    "    \n",
    "print(\"\\nExpansions: \")\n",
    "    \n",
    "for i in range(2+k,len(infos)):\n",
    "    exp = infos[i]\n",
    "    letter = exp[0]\n",
    "    possibilities = exp[2:]\n",
    "    exp_dict[letter] = possibilities.split(\",\")\n",
    "    \n",
    "print(exp_dict)"
   ]
  },
  {
   "cell_type": "code",
   "execution_count": 42,
   "id": "013482ee",
   "metadata": {},
   "outputs": [],
   "source": [
    "def letter_expander(letter,i):\n",
    "    return exp_dict[letter][i]\n",
    "\n",
    "def word_expander(word):\n",
    "    total_string = \"\"\n",
    "    for char in word:\n",
    "        index = 1\n",
    "        total_string = total_string+letter_expander(char, index)\n",
    "    return total_string"
   ]
  },
  {
   "cell_type": "code",
   "execution_count": 41,
   "id": "c16f582b",
   "metadata": {},
   "outputs": [
    {
     "data": {
      "text/plain": [
       "'b'"
      ]
     },
     "execution_count": 41,
     "metadata": {},
     "output_type": "execute_result"
    }
   ],
   "source": [
    "letter_expander(\"A\",1)"
   ]
  },
  {
   "cell_type": "code",
   "execution_count": 44,
   "id": "762e39ac",
   "metadata": {},
   "outputs": [
    {
     "data": {
      "text/plain": [
       "'bbbbb'"
      ]
     },
     "execution_count": 44,
     "metadata": {},
     "output_type": "execute_result"
    }
   ],
   "source": [
    "word_expander(\"AAAAD\")"
   ]
  },
  {
   "cell_type": "code",
   "execution_count": null,
   "id": "6f74b5fd",
   "metadata": {},
   "outputs": [],
   "source": []
  }
 ],
 "metadata": {
  "kernelspec": {
   "display_name": "Python 3",
   "language": "python",
   "name": "python3"
  },
  "language_info": {
   "codemirror_mode": {
    "name": "ipython",
    "version": 3
   },
   "file_extension": ".py",
   "mimetype": "text/x-python",
   "name": "python",
   "nbconvert_exporter": "python",
   "pygments_lexer": "ipython3",
   "version": "3.8.11"
  }
 },
 "nbformat": 4,
 "nbformat_minor": 5
}
